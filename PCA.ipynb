{
 "cells": [
  {
   "cell_type": "markdown",
   "metadata": {},
   "source": [
    "# Principal Component Analysis (PCA)\n",
    "Compress Dataset from n features to k features, where k < n\n",
    "\n",
    "Purpose:\n",
    "1. Data Compression \n",
    "    - Save on memory utilization\n",
    "    - Reduce time required for model training\n",
    "2. Possibilty of Visualization when k dimension is small enough (e.g. 1, 2 or 3)"
   ]
  },
  {
   "cell_type": "markdown",
   "metadata": {},
   "source": [
    "## 1. PCA Using 2-D data aligned to a straight line "
   ]
  },
  {
   "cell_type": "code",
   "execution_count": 1,
   "metadata": {},
   "outputs": [
    {
     "data": {
      "text/plain": [
       "[<matplotlib.lines.Line2D at 0x18b28eb4888>]"
      ]
     },
     "execution_count": 1,
     "metadata": {},
     "output_type": "execute_result"
    },
    {
     "data": {
      "image/png": "[encoded data removed]",
      "text/plain": [
       "<Figure size 432x288 with 1 Axes>"
      ]
     },
     "metadata": {
      "needs_background": "light"
     },
     "output_type": "display_data"
    }
   ],
   "source": [
    "import numpy as np\n",
    "from matplotlib import pyplot as plt\n",
    "# Define a X (dim = (2, 10)) to undergo PCA. Features = 2, Samples = 10\n",
    "# All 10 points are on the same line (see plot in cell)\n",
    "X = np.array([[1,3,5,7,9,11,13,15,17,19],[2,4,6,8,10,12,14,16,18,20]])\n",
    "# X = np.array([[1,3.1,5,7.2,9,11.4,13,15.5,17,19.2],[2.1,4,6.5,8,10.1,12,14.2,16,18.1,20]])\n",
    "plt.scatter(X[0], X[1])\n",
    "plt.plot(X[0], X[1])"
   ]
  },
  {
   "cell_type": "code",
   "execution_count": 2,
   "metadata": {},
   "outputs": [
    {
     "name": "stdout",
     "output_type": "stream",
     "text": [
      "Value of X before mean_norm = \n",
      "[[ 1  3  5  7  9 11 13 15 17 19]\n",
      " [ 2  4  6  8 10 12 14 16 18 20]]\n",
      "\n",
      "Value of mean =\n",
      "[[10.]\n",
      " [11.]]\n",
      "\n",
      "Value of X after mean_norm = \n",
      "[[-9. -7. -5. -3. -1.  1.  3.  5.  7.  9.]\n",
      " [-9. -7. -5. -3. -1.  1.  3.  5.  7.  9.]]\n",
      "\n"
     ]
    }
   ],
   "source": [
    "# Pre-processing\n",
    "# Step 1: Mean normalization (norm_scale = 0) or Feature Scaling (norm_scale = 1)\n",
    "def mean_norm(X, norm_scale=0, db_print=0):\n",
    "    mean = np.mean(X, axis = 1, keepdims=True)\n",
    "    X_mean = X - mean\n",
    "    if norm_scale == 1:   # Perform feature scaling to normalize variance of features\n",
    "        X_mean = X_mean / np.std(X, axis = 1, keepdims=True)\n",
    "    if db_print != 0:\n",
    "        print('Value of X before mean_norm = \\n{}\\n'.format(X))\n",
    "        print('Value of mean =\\n{}\\n'.format(mean))\n",
    "        print('Value of X after mean_norm = \\n{}\\n'.format(X_mean))\n",
    "    return X_mean\n",
    "X = mean_norm(X, norm_scale=0, db_print=1)"
   ]
  },
  {
   "cell_type": "code",
   "execution_count": 3,
   "metadata": {},
   "outputs": [
    {
     "name": "stdout",
     "output_type": "stream",
     "text": [
      "X has shape = (2, 10), Sigma has shape = (2, 2)\n",
      "Value of Sigma, Covariance Matrix = \n",
      "[[36.66666667 36.66666667]\n",
      " [36.66666667 36.66666667]]\n"
     ]
    }
   ],
   "source": [
    "# Step 2: Calulate Covariance Matrix\n",
    "def covar(X, manual=1, db_print=0):\n",
    "    if manual==0:\n",
    "        Sigma = np.cov(X)\n",
    "    else:\n",
    "        Sigma = np.matmul(X, X.T) / (len(X[1])-1)\n",
    "    if db_print != 0:\n",
    "        print('X has shape = {}, Sigma has shape = {}'.format(X.shape, Sigma.shape))\n",
    "        print('Value of Sigma, Covariance Matrix = \\n{}'.format(Sigma))\n",
    "    return Sigma\n",
    "\n",
    "Sigma = covar(X, manual=0, db_print=1)"
   ]
  },
  {
   "cell_type": "code",
   "execution_count": 4,
   "metadata": {},
   "outputs": [
    {
     "name": "stdout",
     "output_type": "stream",
     "text": [
      "Shape of Sigma = (2, 2), Shape of U = (2, 2), Shape of S = (2,)\n",
      "\n",
      "Value of U is \n",
      "[[-0.70710678 -0.70710678]\n",
      " [-0.70710678  0.70710678]]\n",
      "\n",
      "Value of S is \n",
      "[7.33333333e+01 5.59923781e-15]\n",
      "\n",
      "Value of vh is \n",
      "[[-0.70710678 -0.70710678]\n",
      " [-0.70710678  0.70710678]]\n",
      "\n"
     ]
    }
   ],
   "source": [
    "# Step 3:  Get SVD (Singular Value Decomposition)\n",
    "def svd(Sigma, db_print=0):    \n",
    "    U, S, vh = np.linalg.svd(Sigma)\n",
    "    if db_print != 0:\n",
    "        print('Shape of Sigma = {}, Shape of U = {}, Shape of S = {}\\n'.format(Sigma.shape, U.shape, S.shape))\n",
    "        print('Value of U is \\n{}\\n'.format(U))\n",
    "        print('Value of S is \\n{}\\n'.format(S))\n",
    "        print('Value of vh is \\n{}\\n'.format(vh))\n",
    "    return U, S, vh\n",
    "U, S, vh = svd(Sigma,1)"
   ]
  },
  {
   "cell_type": "code",
   "execution_count": 5,
   "metadata": {},
   "outputs": [
    {
     "name": "stdout",
     "output_type": "stream",
     "text": [
      "[[-9. -7. -5. -3. -1.  1.  3.  5.  7.  9.]\n",
      " [-9. -7. -5. -3. -1.  1.  3.  5.  7.  9.]]\n",
      "[[ 12.72792206   9.89949494   7.07106781   4.24264069   1.41421356\n",
      "   -1.41421356  -4.24264069  -7.07106781  -9.89949494 -12.72792206]]\n"
     ]
    }
   ],
   "source": [
    "# Step 4: Get the new feature vectors, and the corresponding Z in the reduced dimension\n",
    "def get_k_dim_features(X, U, k, db_print=0):\n",
    "    \"\"\"\n",
    "    Argument:\n",
    "    X : Input data before PCA with dimension (n, m), where n is num of features, m is the number of data\n",
    "    U : Unitary array from output of svd\n",
    "    k : number of output features after PCA. Output is of dimension (k, m) \n",
    "    \n",
    "    Output:\n",
    "    Z : PCA output with dimension (k, m)\n",
    "    \"\"\"\n",
    "    U_reduce = U[:,0:k]\n",
    "    Z = np.matmul(U_reduce.T, X)\n",
    "    if db_print != 0:\n",
    "        print(X)\n",
    "        print(Z)\n",
    "    return Z\n",
    "\n",
    "k = 1\n",
    "Z = get_k_dim_features(X, U, k, db_print=1)"
   ]
  },
  {
   "cell_type": "code",
   "execution_count": 6,
   "metadata": {},
   "outputs": [
    {
     "name": "stdout",
     "output_type": "stream",
     "text": [
      "[[-9. -7. -5. -3. -1.  1.  3.  5.  7.  9.]\n",
      " [-9. -7. -5. -3. -1.  1.  3.  5.  7.  9.]]\n"
     ]
    }
   ],
   "source": [
    "# Step 5 (optional): Reconstruct back the approximate X from the Z\n",
    "def reconstruct(Z, U, k, db_print=0):\n",
    "    \"\"\"\n",
    "    Argument:\n",
    "    Z : Output of PCA with dimension (k, m), where k is num of features after PCA, m is the number of data\n",
    "    U : Unitary array from output of svd\n",
    "    k : number of output features after PCA.  \n",
    "    \n",
    "    Output:\n",
    "    X : Approximate reconstructed X with dimension (n, m)\n",
    "    \"\"\"\n",
    "    U_reduce = U[:,0:k]\n",
    "    X = np.matmul(U_reduce, Z)\n",
    "    if db_print != 0:\n",
    "        print(X)\n",
    "    return X\n",
    "\n",
    "X_approx = reconstruct(Z, U, k, db_print=1)"
   ]
  },
  {
   "cell_type": "code",
   "execution_count": 105,
   "metadata": {},
   "outputs": [
    {
     "name": "stdout",
     "output_type": "stream",
     "text": [
      "\n",
      "Variance Retained = 100.0 %\n"
     ]
    }
   ],
   "source": [
    "# Step 6 (optional): Calculate % variance retained\n",
    "def variance_retained(X, X_approx, method='manual', S=0, k=1):\n",
    "    \"\"\"\n",
    "    Argument:\n",
    "        X : Original data before PCA. X is numpy of dimension (n, m)\n",
    "        X_approx: Reconstructed data. X_approx is numpy of dimension (n, m)\n",
    "        Method: 'manual' = do manual calculation\n",
    "                'svd' = Use S output from svd to calculate variance retained\n",
    "        S : S output from svd. Required if method set to svd\n",
    "        k : PCA reduced dimension. Required if method set to svd\n",
    "    Output:\n",
    "        pct_retained :  Percentage of retained variance (real number from 0 to 100). \n",
    "                        Value of 100 implies PCA did not distort data at all\n",
    "    \"\"\"\n",
    "    assert (method=='manual' or method=='svd'), 'method is wrong'\n",
    "    if method=='manual':\n",
    "        total_var_data = np.linalg.norm((X),2)**2 / X.shape[1]    # L2 norm \n",
    "        avg_sq_proj_err = np.linalg.norm((X-X_approx),2)**2 / X.shape[1]   # L2 norm\n",
    "        pct_retained = (1 - avg_sq_proj_err/total_var_data)*100   \n",
    "    elif method=='svd':\n",
    "        pct_retained = (S[0:k].sum() / S.sum()) * 100\n",
    "    \n",
    "    return pct_retained\n",
    "\n",
    "pct_retained = variance_retained(X, X_approx, 'svd', S, 1)\n",
    "print('\\nVariance Retained = {} %'.format(pct_retained))"
   ]
  },
  {
   "cell_type": "code",
   "execution_count": 106,
   "metadata": {},
   "outputs": [
    {
     "name": "stdout",
     "output_type": "stream",
     "text": [
      "X has shape = (2, 10), Sigma has shape = (2, 2)\n",
      "Value of Sigma, Covariance Matrix = \n",
      "[[36.66666667 36.66666667]\n",
      " [36.66666667 36.66666667]]\n",
      "Shape of Sigma = (2, 2), Shape of U = (2, 2), Shape of S = (2,)\n",
      "\n",
      "Value of U is \n",
      "[[-0.70710678 -0.70710678]\n",
      " [-0.70710678  0.70710678]]\n",
      "\n",
      "Value of S is \n",
      "[7.33333333e+01 5.59923781e-15]\n",
      "\n",
      "Value of vh is \n",
      "[[-0.70710678 -0.70710678]\n",
      " [-0.70710678  0.70710678]]\n",
      "\n",
      "\n",
      "Variance Retained = 100.0 %\n"
     ]
    }
   ],
   "source": [
    "# Additional: Auto calculate k using variance retained as a parameter\n",
    "X = mean_norm(X, norm_scale=0, db_print=0)\n",
    "Sigma = covar(X, manual=0, db_print=1)\n",
    "U, S, vh = svd(Sigma, db_print=1)\n",
    "Z = get_k_dim_features(X, U, k)\n",
    "X_approx = reconstruct(Z, U, k)\n",
    "pct_retained = variance_retained(X, X_approx, method='manual', S=0, k=1)\n",
    "print('\\nVariance Retained = {} %'.format(pct_retained))"
   ]
  },
  {
   "cell_type": "markdown",
   "metadata": {},
   "source": [
    "## 2. PCA on 2-D data with jitter\n",
    "Set n = 2 for 2-D data\n",
    "Set n = 3 for 3-D data"
   ]
  },
  {
   "cell_type": "code",
   "execution_count": 123,
   "metadata": {},
   "outputs": [
    {
     "data": {
      "text/plain": [
       "<matplotlib.collections.PathCollection at 0x18b3ad6cf08>"
      ]
     },
     "execution_count": 123,
     "metadata": {},
     "output_type": "execute_result"
    },
    {
     "data": {
      "image/png": "[encoded data removed]",
      "text/plain": [
       "<Figure size 720x720 with 1 Axes>"
      ]
     },
     "metadata": {
      "needs_background": "light"
     },
     "output_type": "display_data"
    }
   ],
   "source": [
    "# Creation of data for testing\n",
    "####### Parameters to explore ########################################\n",
    "n = 50     # Number of features (i.e. dimension)\n",
    "m = 20    # Number of sample data points to create\n",
    "jitter = 4   # Set a value from 0 to 20\n",
    "k = 10   # Reduced dimension after PCA\n",
    "have_pattern = False    # Set to True for test data with valid pattern\n",
    "                       # Set to False for uncorrelated data\n",
    "######################################################################\n",
    "\n",
    "Y = np.zeros((n,m))\n",
    "Y1 = np.arange(m)\n",
    "Y[0] = Y1\n",
    "\n",
    "for i in range(1,n):\n",
    "    if have_pattern: \n",
    "        Y[i] = np.arange(m) + np.random.randn(m)*jitter\n",
    "    else:\n",
    "        Y[i] = np.random.randn(m)*jitter\n",
    "    \n",
    "plt.figure(figsize=(10, 10))\n",
    "plt.scatter(Y[0], Y[1])"
   ]
  },
  {
   "cell_type": "code",
   "execution_count": 124,
   "metadata": {},
   "outputs": [
    {
     "name": "stdout",
     "output_type": "stream",
     "text": [
      "\n",
      "Variance Retained = 64.86157538629038 %\n"
     ]
    },
    {
     "data": {
      "image/png": "[encoded data removed]",
      "text/plain": [
       "<Figure size 720x720 with 1 Axes>"
      ]
     },
     "metadata": {
      "needs_background": "light"
     },
     "output_type": "display_data"
    }
   ],
   "source": [
    "# Step 1: Mean normalization (norm_scale = 0) or Feature Scaling (norm_scale = 1)\n",
    "Y = mean_norm(Y, norm_scale=1, db_print=0)\n",
    "plt.figure(figsize=(10, 10))\n",
    "plt.scatter(Y[0], Y[1])\n",
    "\n",
    "# Step 2: Calulate Covariance Matrix\n",
    "Sigma_Y = covar(Y, manual=0, db_print=0)\n",
    "\n",
    "# Step 3:  Get SVD (Singular Value Decomposition)\n",
    "U_Y, S_Y, _ = svd(Sigma_Y, db_print=0)\n",
    "\n",
    "# Step 4: Get the new feature vectors, and the corresponding Z in the reduced dimension\n",
    "Z_Y = get_k_dim_features(Y, U_Y, k, db_print=0)\n",
    "\n",
    "# Step 5 (optional): Reconstruct back the approximate X from the Z\n",
    "Y_approx = reconstruct(Z_Y, U_Y, k, db_print=0)\n",
    "plt.scatter(Y_approx[0], Y_approx[1])\n",
    "plt.title(\"Effects of PCA\") \n",
    "plt.xlabel(\"X0, Y0\") \n",
    "plt.ylabel(\"X1, Y1\")\n",
    "plt.legend(['Original', 'Reconstructed'])\n",
    "\n",
    "pct_retained = variance_retained(Y, Y_approx, method='manual', S=S_Y, k=k)\n",
    "print('\\nVariance Retained = {} %'.format(pct_retained))"
   ]
  },
  {
   "cell_type": "code",
   "execution_count": 114,
   "metadata": {},
   "outputs": [],
   "source": [
    "# %matplotlib notebook\n",
    "# # only applicable for jupyter notebook, cannot for jupyter lab\n",
    "\n",
    "%matplotlib inline\n",
    "from mpl_toolkits.mplot3d import Axes3D\n",
    "\n",
    "if len(Y) >= 3: \n",
    "    fig = plt.figure(figsize=(10, 10))\n",
    "    ax = plt.axes(projection='3d')\n",
    "    ax.scatter3D(Y[0], Y[1], Y[2])\n",
    "    ax.scatter3D(Y_approx[0], Y[1], Y[2])\n",
    "    plt.xlabel(\"X0, Y0\") \n",
    "    plt.ylabel(\"X1, Y1\")"
   ]
  },
  {
   "cell_type": "code",
   "execution_count": null,
   "metadata": {},
   "outputs": [],
   "source": []
  }
 ],
 "metadata": {
  "kernelspec": {
   "display_name": "Python 3",
   "language": "python",
   "name": "python3"
  },
  "language_info": {
   "codemirror_mode": {
    "name": "ipython",
    "version": 3
   },
   "file_extension": ".py",
   "mimetype": "text/x-python",
   "name": "python",
   "nbconvert_exporter": "python",
   "pygments_lexer": "ipython3",
   "version": "3.7.6"
  }
 },
 "nbformat": 4,
 "nbformat_minor": 4
}
